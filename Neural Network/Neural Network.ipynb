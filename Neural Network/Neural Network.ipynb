{
 "cells": [
  {
   "cell_type": "code",
   "execution_count": 1,
   "metadata": {},
   "outputs": [],
   "source": [
    "from matplotlib import pyplot as plt\n",
    "import numpy as np\n",
    "from numpy import array\n",
    "import struct\n",
    "import random\n",
    "import pandas as pd"
   ]
  },
  {
   "cell_type": "code",
   "execution_count": 2,
   "metadata": {},
   "outputs": [],
   "source": [
    "def byteToPixel(file, width,length):\n",
    "    stringcode = '>'+'B' * len(file)\n",
    "    data = array(struct.unpack(stringcode, file))\n",
    "    data = data.reshape(int(len(file)/(width*length)),width*length,1)/255\n",
    "    return data"
   ]
  },
  {
   "cell_type": "code",
   "execution_count": 3,
   "metadata": {},
   "outputs": [],
   "source": [
    "def load_data(filename, labelname, width, length):\n",
    "    with open(filename, 'rb') as f:\n",
    "        bytefile = f.read()\n",
    "    f.close()\n",
    "    pixelfile = byteToPixel(bytefile, width,length)\n",
    "    \n",
    "    file = open(labelname,\"r\")\n",
    "    labelfile = []\n",
    "    for line in file:\n",
    "        current = line.split()\n",
    "        results = list(map(int, current))\n",
    "        results = array(list(map(lambda x:[x], results)))\n",
    "        labelfile.append(results)\n",
    "    \n",
    "    data = list(zip(pixelfile, labelfile))\n",
    "    return data"
   ]
  },
  {
   "cell_type": "code",
   "execution_count": 4,
   "metadata": {},
   "outputs": [],
   "source": [
    "def confusionMatrix(result,outterlayer):\n",
    "    Matrix = np.zeros((outterlayer,outterlayer))\n",
    "    for (x,y) in result:\n",
    "        Matrix[np.argmax(y)][np.argmax(x)] += 1\n",
    "    Matrix = pd.DataFrame(Matrix)\n",
    "    return Matrix"
   ]
  },
  {
   "cell_type": "code",
   "execution_count": 5,
   "metadata": {},
   "outputs": [],
   "source": [
    "def sigmoid(z):\n",
    "    \"\"\"The sigmoid function.\"\"\"\n",
    "    return 1.0/(1.0+np.exp(-z))\n"
   ]
  },
  {
   "cell_type": "code",
   "execution_count": 6,
   "metadata": {},
   "outputs": [],
   "source": [
    "def sigmoid_prime(z):\n",
    "    \"\"\"Derivative of the sigmoid function.\"\"\"\n",
    "    return sigmoid(z)*(1-sigmoid(z))\n"
   ]
  },
  {
   "cell_type": "code",
   "execution_count": 7,
   "metadata": {},
   "outputs": [],
   "source": [
    "class Network(object):\n",
    "\n",
    "    def __init__(self, sizes):\n",
    "        self.num_hlayers = len(sizes)-2\n",
    "        self.sizes = sizes\n",
    "        self.biases = []\n",
    "        self.weights = []\n",
    "        \n",
    "    def create_wb(self, weights,biases):\n",
    "        self.biases = biases\n",
    "        self.weights = weights\n",
    "    \n",
    "    def return_wb(self):\n",
    "        return self.weights, self.biases\n",
    "\n",
    "    def feedforward(self, activation):\n",
    "        for b, w in zip(self.biases, self.weights):\n",
    "            activation = sigmoid(np.dot(w, activation)+b)\n",
    "        return activation\n",
    "    \n",
    "    def pick_mini_batches(self,training_data,mini_batch_size):\n",
    "        n = len(training_data)\n",
    "        random.shuffle(training_data)\n",
    "        mini_batches = [training_data[k:k+mini_batch_size] for k in range(0, n, mini_batch_size)]\n",
    "        return mini_batches\n",
    "        \n",
    "    def training_network(self, training_data,mini_batch_size,learning_rate):\n",
    "            mini_batches = self.pick_mini_batches(training_data,mini_batch_size)\n",
    "            for mini_batch in mini_batches:\n",
    "                self.changed_mini_batch(mini_batch, learning_rate)\n",
    "    \n",
    "    def changed_mini_batch(self, mini_batch, learning_rate):\n",
    "        sum_of_b = [np.zeros(b.shape) for b in self.biases]\n",
    "        sum_of_w = [np.zeros(w.shape) for w in self.weights]\n",
    "        \n",
    "        for activation, label in mini_batch:\n",
    "            \n",
    "            delta_one_b, delta_one_w = self.backward_prop(activation, label)\n",
    "            \n",
    "            sum_of_b = [sb+dob for sb, dob in zip(sum_of_b, delta_one_b)]\n",
    "            sum_of_w = [sw+dow for sw, dow in zip(sum_of_w, delta_one_w)]\n",
    "            \n",
    "        self.weights = [w-(learning_rate/len(mini_batch))*sw for w, sw in zip(self.weights, sum_of_w)]\n",
    "        self.biases = [b-(learning_rate/len(mini_batch))*sb for b, sb in zip(self.biases, sum_of_b)]\n",
    "    \n",
    "    def backward_prop(self,x, y):\n",
    "        change_b = [np.zeros(b.shape) for b in self.biases]\n",
    "        change_w = [np.zeros(w.shape) for w in self.weights]\n",
    "        # feedforward\n",
    "        activation = x\n",
    "        activation_collection = [activation] # list to store all the activations, layer by layer\n",
    "        zs = [] # list to store all the z vectors, layer by layer\n",
    "        for b, w in zip(self.biases, self.weights):\n",
    "            z = np.dot(w, activation)+b\n",
    "            zs.append(z)\n",
    "            activation = sigmoid(z)\n",
    "            activation_collection.append(activation)\n",
    "            \n",
    "        #Calculate backward from label y\n",
    "        delta = self.cost_derivative(activation_collection[-1], y) * sigmoid_prime(zs[-1])\n",
    "        change_b[-1] = delta\n",
    "        change_w[-1] = np.dot(delta, activation_collection[-2].transpose())\n",
    "\n",
    "        for layer in range(2, self.num_hlayers+2):\n",
    "            z = zs[-layer]\n",
    "            sp = sigmoid_prime(z)\n",
    "            delta = np.dot(self.weights[-layer+1].transpose(), delta) * sp\n",
    "            change_b[-layer] = delta\n",
    "            change_w[-layer] = np.dot(delta, activation_collection[-layer-1].transpose())\n",
    "        return change_b, change_w\n",
    "    \n",
    "    def evaluate(self, test_data):\n",
    "\n",
    "        test_results = [(self.feedforward(x), y)for (x, y) in test_data]\n",
    "        result = 0\n",
    "        for (x, y) in test_results:\n",
    "            if np.argmax(x) == np.argmax(y):\n",
    "                result += 1\n",
    "        mse = 0\n",
    "        for item in test_results:\n",
    "            temp = sum((item[0] - item[1])**2)/len(item[1])\n",
    "            mse = temp+mse\n",
    "        mse = mse/len(test_results)\n",
    "        \n",
    "        return result, mse, test_results\n",
    "        \n",
    "    def cost_derivative(self, output_activations, y):\n",
    "        return (output_activations-y)\n",
    "    \n",
    "    def evaluate_epochs(self,training_data,mini_batch_size,learning_rate, test_data=None):\n",
    "        if test_data is not None:\n",
    "            n_test = len(test_data)\n",
    "        temp_diff = 0\n",
    "        a_mse = 0\n",
    "        b_mse = 0\n",
    "        j = 0\n",
    "        result_epochs = []\n",
    "        result_mse = []\n",
    "        result_mse_different = []\n",
    "        while True:\n",
    "            self.training_network(training_data,mini_batch_size,learning_rate)\n",
    "            if test_data is not None:\n",
    "                result ,mse,test_results = self.evaluate(test_data)\n",
    "                result_epochs.append(result)\n",
    "                result_mse.append(mse)\n",
    "                a_mse = mse\n",
    "                if temp_diff <0.0001 and temp_diff != 0: ##same data or overshoot\n",
    "                    return test_results, result_epochs, result_mse, result_mse_different\n",
    "                else:\n",
    "                    temp_diff = abs(a_mse - b_mse)\n",
    "                    if temp_diff == a_mse:\n",
    "                        temp_diff = None\n",
    "                    result_mse_different.append(temp_diff)\n",
    "                    b_mse = a_mse\n",
    "                    print (\"Epoch \" + str(j)+ \": \"+ str(result)+' / ' + str(n_test) + '   ' + str(mse)+'   ' \\\n",
    "                           + str(temp_diff))\n",
    "                    if temp_diff is None:\n",
    "                        temp_diff = 2\n",
    "            else:\n",
    "                break\n",
    "                print (\"Epoch\" + str(j) +  \"complete\")\n",
    "\n",
    "            j+=1"
   ]
  },
  {
   "cell_type": "code",
   "execution_count": 8,
   "metadata": {},
   "outputs": [],
   "source": [
    "train_image = 'train_images.raw'\n",
    "test_image = 'test_images.raw'\n",
    "train_label = \"train_labels.txt\"\n",
    "test_label = \"test_labels.txt\"\n",
    "contents_train = load_data(train_image,train_label,28,28)\n",
    "contents_test = load_data(test_image,test_label,28,28)"
   ]
  },
  {
   "cell_type": "code",
   "execution_count": 9,
   "metadata": {
    "scrolled": false
   },
   "outputs": [
    {
     "data": {
      "text/plain": [
       "<matplotlib.image.AxesImage at 0x1188d6be0>"
      ]
     },
     "execution_count": 9,
     "metadata": {},
     "output_type": "execute_result"
    },
    {
     "data": {
      "image/png": "[encoded data removed]",
      "text/plain": [
       "<Figure size 432x288 with 1 Axes>"
      ]
     },
     "metadata": {},
     "output_type": "display_data"
    }
   ],
   "source": [
    "k = contents_train[0][0].reshape(28,28)\n",
    "plt.imshow(k, cmap='Greys',  interpolation='nearest')"
   ]
  },
  {
   "cell_type": "code",
   "execution_count": 10,
   "metadata": {
    "scrolled": true
   },
   "outputs": [
    {
     "name": "stdout",
     "output_type": "stream",
     "text": [
      "1\n"
     ]
    }
   ],
   "source": [
    "sizes = [784,100,5]\n",
    "net = Network(sizes)\n",
    "print (net.num_hlayers)\n",
    "w = [np.random.randn(y, x) for x, y in zip(sizes[:-1], sizes[1:])]\n",
    "b = [np.random.randn(y, 1) for y in sizes[1:]]\n",
    "net.create_wb(w,b)"
   ]
  },
  {
   "cell_type": "code",
   "execution_count": 11,
   "metadata": {
    "scrolled": false
   },
   "outputs": [
    {
     "name": "stdout",
     "output_type": "stream",
     "text": [
      "Epoch 0: 1778 / 2561   [0.09322749]   None\n",
      "Epoch 1: 2226 / 2561   [0.04932852]   [0.04389897]\n",
      "Epoch 2: 2311 / 2561   [0.03730942]   [0.0120191]\n",
      "Epoch 3: 2354 / 2561   [0.03177296]   [0.00553646]\n",
      "Epoch 4: 2378 / 2561   [0.02840222]   [0.00337074]\n",
      "Epoch 5: 2395 / 2561   [0.02583676]   [0.00256545]\n",
      "Epoch 6: 2406 / 2561   [0.02404018]   [0.00179659]\n",
      "Epoch 7: 2414 / 2561   [0.02264257]   [0.00139761]\n",
      "Epoch 8: 2416 / 2561   [0.02165653]   [0.00098604]\n",
      "Epoch 9: 2425 / 2561   [0.02088568]   [0.00077085]\n",
      "Epoch 10: 2428 / 2561   [0.02024497]   [0.00064071]\n",
      "Epoch 11: 2430 / 2561   [0.01944576]   [0.00079921]\n",
      "Epoch 12: 2435 / 2561   [0.01893463]   [0.00051113]\n",
      "Epoch 13: 2439 / 2561   [0.01829459]   [0.00064004]\n",
      "Epoch 14: 2442 / 2561   [0.01786232]   [0.00043228]\n",
      "Epoch 15: 2445 / 2561   [0.01753465]   [0.00032767]\n",
      "Epoch 16: 2450 / 2561   [0.0171024]   [0.00043225]\n",
      "Epoch 17: 2451 / 2561   [0.01683123]   [0.00027117]\n",
      "Epoch 18: 2452 / 2561   [0.01658792]   [0.00024331]\n",
      "Epoch 19: 2452 / 2561   [0.01633861]   [0.00024931]\n",
      "Epoch 20: 2453 / 2561   [0.01608574]   [0.00025287]\n",
      "Epoch 21: 2457 / 2561   [0.01576419]   [0.00032155]\n",
      "Epoch 22: 2460 / 2561   [0.01558213]   [0.00018206]\n",
      "Epoch 23: 2459 / 2561   [0.01530307]   [0.00027906]\n",
      "Epoch 24: 2458 / 2561   [0.01525609]   [4.69765831e-05]\n"
     ]
    }
   ],
   "source": [
    "result, result_epochs, result_mse, result_mse_different= net.evaluate_epochs\\\n",
    "(contents_train,100,0.5, test_data=contents_test)"
   ]
  },
  {
   "cell_type": "code",
   "execution_count": 12,
   "metadata": {
    "scrolled": true
   },
   "outputs": [
    {
     "data": {
      "text/html": [
       "<div>\n",
       "<style scoped>\n",
       "    .dataframe tbody tr th:only-of-type {\n",
       "        vertical-align: middle;\n",
       "    }\n",
       "\n",
       "    .dataframe tbody tr th {\n",
       "        vertical-align: top;\n",
       "    }\n",
       "\n",
       "    .dataframe thead th {\n",
       "        text-align: right;\n",
       "    }\n",
       "</style>\n",
       "<table border=\"1\" class=\"dataframe\">\n",
       "  <thead>\n",
       "    <tr style=\"text-align: right;\">\n",
       "      <th></th>\n",
       "      <th>0</th>\n",
       "      <th>1</th>\n",
       "      <th>2</th>\n",
       "      <th>3</th>\n",
       "      <th>4</th>\n",
       "    </tr>\n",
       "  </thead>\n",
       "  <tbody>\n",
       "    <tr>\n",
       "      <th>0</th>\n",
       "      <td>453.0</td>\n",
       "      <td>0.0</td>\n",
       "      <td>2.0</td>\n",
       "      <td>5.0</td>\n",
       "      <td>0.0</td>\n",
       "    </tr>\n",
       "    <tr>\n",
       "      <th>1</th>\n",
       "      <td>0.0</td>\n",
       "      <td>559.0</td>\n",
       "      <td>3.0</td>\n",
       "      <td>5.0</td>\n",
       "      <td>4.0</td>\n",
       "    </tr>\n",
       "    <tr>\n",
       "      <th>2</th>\n",
       "      <td>9.0</td>\n",
       "      <td>7.0</td>\n",
       "      <td>485.0</td>\n",
       "      <td>19.0</td>\n",
       "      <td>10.0</td>\n",
       "    </tr>\n",
       "    <tr>\n",
       "      <th>3</th>\n",
       "      <td>2.0</td>\n",
       "      <td>4.0</td>\n",
       "      <td>13.0</td>\n",
       "      <td>477.0</td>\n",
       "      <td>4.0</td>\n",
       "    </tr>\n",
       "    <tr>\n",
       "      <th>4</th>\n",
       "      <td>1.0</td>\n",
       "      <td>2.0</td>\n",
       "      <td>10.0</td>\n",
       "      <td>1.0</td>\n",
       "      <td>486.0</td>\n",
       "    </tr>\n",
       "  </tbody>\n",
       "</table>\n",
       "</div>"
      ],
      "text/plain": [
       "       0      1      2      3      4\n",
       "0  453.0    0.0    2.0    5.0    0.0\n",
       "1    0.0  559.0    3.0    5.0    4.0\n",
       "2    9.0    7.0  485.0   19.0   10.0\n",
       "3    2.0    4.0   13.0  477.0    4.0\n",
       "4    1.0    2.0   10.0    1.0  486.0"
      ]
     },
     "execution_count": 12,
     "metadata": {},
     "output_type": "execute_result"
    }
   ],
   "source": [
    "confusionMatrix(result,5)"
   ]
  },
  {
   "cell_type": "code",
   "execution_count": 13,
   "metadata": {},
   "outputs": [],
   "source": [
    "result_accuracy = [x / 2561*100 for x in result_epochs]"
   ]
  },
  {
   "cell_type": "code",
   "execution_count": 14,
   "metadata": {},
   "outputs": [
    {
     "data": {
      "image/png": "[encoded data removed]",
      "text/plain": [
       "<Figure size 432x288 with 1 Axes>"
      ]
     },
     "metadata": {},
     "output_type": "display_data"
    }
   ],
   "source": [
    "plt.plot(result_accuracy)\n",
    "plt.xlabel('Number of Epochs', fontsize=20)\n",
    "plt.ylabel('Accuracy (%)', fontsize=20)\n",
    "plt.show()"
   ]
  },
  {
   "cell_type": "code",
   "execution_count": null,
   "metadata": {},
   "outputs": [],
   "source": []
  }
 ],
 "metadata": {
  "kernelspec": {
   "display_name": "Python 3",
   "language": "python",
   "name": "python3"
  },
  "language_info": {
   "codemirror_mode": {
    "name": "ipython",
    "version": 3
   },
   "file_extension": ".py",
   "mimetype": "text/x-python",
   "name": "python",
   "nbconvert_exporter": "python",
   "pygments_lexer": "ipython3",
   "version": "3.6.5"
  }
 },
 "nbformat": 4,
 "nbformat_minor": 2
}
