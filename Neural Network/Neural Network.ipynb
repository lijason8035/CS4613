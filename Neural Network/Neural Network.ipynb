{
 "cells": [
  {
   "cell_type": "code",
   "execution_count": 1,
   "metadata": {},
   "outputs": [],
   "source": [
    "from matplotlib import pyplot as plt\n",
    "import numpy as np\n",
    "from numpy import array\n",
    "import struct\n",
    "import random\n",
    "import pandas as pd"
   ]
  },
  {
   "cell_type": "code",
   "execution_count": 2,
   "metadata": {},
   "outputs": [],
   "source": [
    "def byteToPixel(file, width,length):\n",
    "    stringcode = '>'+'B' * len(file)\n",
    "    data = array(struct.unpack(stringcode, file))\n",
    "    data = data.reshape(int(len(file)/(width*length)),width*length,1)/255\n",
    "    return data"
   ]
  },
  {
   "cell_type": "code",
   "execution_count": 3,
   "metadata": {},
   "outputs": [],
   "source": [
    "def load_data(filename, labelname, width, length):\n",
    "    with open(filename, 'rb') as f:\n",
    "        bytefile = f.read()\n",
    "    f.close()\n",
    "    pixelfile = byteToPixel(bytefile, width,length)\n",
    "    \n",
    "    file = open(labelname,\"r\")\n",
    "    labelfile = []\n",
    "    for line in file:\n",
    "        current = line.split()\n",
    "        results = list(map(int, current))\n",
    "        results = array(list(map(lambda x:[x], results)))\n",
    "        labelfile.append(results)\n",
    "    \n",
    "    data = list(zip(pixelfile, labelfile))\n",
    "    return data"
   ]
  },
  {
   "cell_type": "code",
   "execution_count": 93,
   "metadata": {},
   "outputs": [],
   "source": [
    "def confusionMatrix(result,outterlayer):\n",
    "    Matrix = np.zeros((outterlayer,outterlayer))\n",
    "    for (x,y) in result:\n",
    "        Matrix[np.argmax(y)][np.argmax(x)] += 1\n",
    "    Matrix = pd.DataFrame(Matrix)\n",
    "    return Matrix"
   ]
  },
  {
   "cell_type": "code",
   "execution_count": 6,
   "metadata": {},
   "outputs": [],
   "source": [
    "def sigmoid(z):\n",
    "    \"\"\"The sigmoid function.\"\"\"\n",
    "    return 1.0/(1.0+np.exp(-z))\n"
   ]
  },
  {
   "cell_type": "code",
   "execution_count": 7,
   "metadata": {},
   "outputs": [],
   "source": [
    "def sigmoid_prime(z):\n",
    "    \"\"\"Derivative of the sigmoid function.\"\"\"\n",
    "    return sigmoid(z)*(1-sigmoid(z))\n"
   ]
  },
  {
   "cell_type": "code",
   "execution_count": 113,
   "metadata": {},
   "outputs": [],
   "source": [
    "class Network(object):\n",
    "\n",
    "    def __init__(self, sizes):\n",
    "        self.num_hlayers = len(sizes)-2\n",
    "        self.sizes = sizes\n",
    "        self.biases = []\n",
    "        self.weights = []\n",
    "        \n",
    "    def create_wb(self, weights,biases):\n",
    "        self.biases = biases\n",
    "        self.weights = weights\n",
    "    \n",
    "    def return_wb(self):\n",
    "        return self.weights, self.biases\n",
    "\n",
    "    def feedforward(self, activation):\n",
    "        for b, w in zip(self.biases, self.weights):\n",
    "            activation = sigmoid(np.dot(w, activation)+b)\n",
    "        return activation\n",
    "    \n",
    "    def pick_mini_batches(self,training_data,mini_batch_size):\n",
    "        n = len(training_data)\n",
    "        random.shuffle(training_data)\n",
    "        mini_batches = [training_data[k:k+mini_batch_size] for k in range(0, n, mini_batch_size)]\n",
    "        return mini_batches\n",
    "        \n",
    "    def training_network(self, training_data,mini_batch_size,learning_rate):\n",
    "            mini_batches = self.pick_mini_batches(training_data,mini_batch_size)\n",
    "            for mini_batch in mini_batches:\n",
    "                self.changed_mini_batch(mini_batch, learning_rate)\n",
    "    \n",
    "    def changed_mini_batch(self, mini_batch, learning_rate):\n",
    "        sum_of_b = [np.zeros(b.shape) for b in self.biases]\n",
    "        sum_of_w = [np.zeros(w.shape) for w in self.weights]\n",
    "        \n",
    "        for activation, label in mini_batch:\n",
    "            \n",
    "            delta_one_b, delta_one_w = self.backward_prop(activation, label)\n",
    "            \n",
    "            sum_of_b = [sb+dob for sb, dob in zip(sum_of_b, delta_one_b)]\n",
    "            sum_of_w = [sw+dow for sw, dow in zip(sum_of_w, delta_one_w)]\n",
    "            \n",
    "        self.weights = [w-(learning_rate/len(mini_batch))*sw for w, sw in zip(self.weights, sum_of_w)]\n",
    "        self.biases = [b-(learning_rate/len(mini_batch))*sb for b, sb in zip(self.biases, sum_of_b)]\n",
    "    \n",
    "    def backward_prop(self,x, y):\n",
    "        change_b = [np.zeros(b.shape) for b in self.biases]\n",
    "        change_w = [np.zeros(w.shape) for w in self.weights]\n",
    "        # feedforward\n",
    "        activation = x\n",
    "        activation_collection = [activation] # list to store all the activations, layer by layer\n",
    "        zs = [] # list to store all the z vectors, layer by layer\n",
    "        for b, w in zip(self.biases, self.weights):\n",
    "            z = np.dot(w, activation)+b\n",
    "            zs.append(z)\n",
    "            activation = sigmoid(z)\n",
    "            activation_collection.append(activation)\n",
    "            \n",
    "        #Calculate backward from label y\n",
    "        delta = self.cost_derivative(activation_collection[-1], y) * sigmoid_prime(zs[-1])\n",
    "        change_b[-1] = delta\n",
    "        change_w[-1] = np.dot(delta, activation_collection[-2].transpose())\n",
    "\n",
    "        for layer in range(2, self.num_hlayers+2):\n",
    "            z = zs[-layer]\n",
    "            sp = sigmoid_prime(z)\n",
    "            delta = np.dot(self.weights[-layer+1].transpose(), delta) * sp\n",
    "            change_b[-layer] = delta\n",
    "            change_w[-layer] = np.dot(delta, activation_collection[-layer-1].transpose())\n",
    "        return change_b, change_w\n",
    "    \n",
    "    def evaluate(self, test_data):\n",
    "\n",
    "        test_results = [(self.feedforward(x), y)for (x, y) in test_data]\n",
    "        result = 0\n",
    "        for (x, y) in test_results:\n",
    "            if np.argmax(x) == np.argmax(y):\n",
    "                result += 1\n",
    "        mse = 0\n",
    "        for item in test_results:\n",
    "            temp = sum((item[0] - item[1])**2)/len(item[1])\n",
    "            mse = temp+mse\n",
    "        mse = mse/len(test_results)\n",
    "        \n",
    "        return result, mse, test_results\n",
    "        \n",
    "    def cost_derivative(self, output_activations, y):\n",
    "        return (output_activations-y)\n",
    "    \n",
    "    def evaluate_epochs(self,training_data,mini_batch_size,learning_rate, test_data=None):\n",
    "        if test_data is not None:\n",
    "            n_test = len(test_data)\n",
    "        temp_diff = 0\n",
    "        a_mse = 0\n",
    "        b_mse = 0\n",
    "        j = 0\n",
    "        result_epochs = []\n",
    "        result_mse = []\n",
    "        result_mse_different = []\n",
    "        while True:\n",
    "            self.training_network(training_data,mini_batch_size,learning_rate)\n",
    "            if test_data is not None:\n",
    "                result ,mse,test_results = self.evaluate(test_data)\n",
    "                result_epochs.append(result)\n",
    "                result_mse.append(mse)\n",
    "                a_mse = mse\n",
    "                if temp_diff <0.0001 and temp_diff != 0: ##same data or overshoot\n",
    "                    return test_results, result_epochs, result_mse, result_mse_different\n",
    "                else:\n",
    "                    temp_diff = abs(a_mse - b_mse)\n",
    "                    if temp_diff == a_mse:\n",
    "                        temp_diff = None\n",
    "                    result_mse_different.append(temp_diff)\n",
    "                    b_mse = a_mse\n",
    "                    print (\"Epoch \" + str(j)+ \": \"+ str(result)+' / ' + str(n_test) + '   ' + str(mse)+'   ' \\\n",
    "                           + str(temp_diff))\n",
    "                    if temp_diff is None:\n",
    "                        temp_diff = 2\n",
    "            else:\n",
    "                break\n",
    "                print (\"Epoch\" + str(j) +  \"complete\")\n",
    "\n",
    "            j+=1"
   ]
  },
  {
   "cell_type": "code",
   "execution_count": 4,
   "metadata": {},
   "outputs": [],
   "source": [
    "train_image = 'train_images.raw'\n",
    "test_image = 'test_images.raw'\n",
    "train_label = \"train_labels.txt\"\n",
    "test_label = \"test_labels.txt\"\n",
    "contents_train = load_data(train_image,train_label,28,28)\n",
    "contents_test = load_data(test_image,test_label,28,28)"
   ]
  },
  {
   "cell_type": "code",
   "execution_count": 5,
   "metadata": {
    "scrolled": false
   },
   "outputs": [
    {
     "data": {
      "text/plain": [
       "<matplotlib.image.AxesImage at 0x15ae06128>"
      ]
     },
     "execution_count": 5,
     "metadata": {},
     "output_type": "execute_result"
    },
    {
     "data": {
      "image/png": "[encoded data removed]",
      "text/plain": [
       "<Figure size 432x288 with 1 Axes>"
      ]
     },
     "metadata": {},
     "output_type": "display_data"
    }
   ],
   "source": [
    "k = contents_train[0][0].reshape(28,28)\n",
    "plt.imshow(k, cmap='Greys',  interpolation='nearest')"
   ]
  },
  {
   "cell_type": "code",
   "execution_count": 99,
   "metadata": {
    "scrolled": true
   },
   "outputs": [
    {
     "name": "stdout",
     "output_type": "stream",
     "text": [
      "2\n"
     ]
    }
   ],
   "source": [
    "sizes = [784,50,50,5]\n",
    "net = Network(sizes)\n",
    "print (net.num_hlayers)"
   ]
  },
  {
   "cell_type": "code",
   "execution_count": 100,
   "metadata": {},
   "outputs": [],
   "source": [
    "net.create_wb([np.random.randn(y, x) for x, y in zip(sizes[:-1], sizes[1:])],[np.random.randn(y, 1) for y in sizes[1:]])\n"
   ]
  },
  {
   "cell_type": "code",
   "execution_count": 101,
   "metadata": {
    "scrolled": false
   },
   "outputs": [
    {
     "name": "stdout",
     "output_type": "stream",
     "text": [
      "Epoch 0: 1685 / 2561   [0.09784545]   None\n",
      "Epoch 1: 2183 / 2561   [0.05080502]   [0.04704044]\n",
      "Epoch 2: 2295 / 2561   [0.03785714]   [0.01294788]\n",
      "Epoch 3: 2343 / 2561   [0.03160148]   [0.00625566]\n",
      "Epoch 4: 2361 / 2561   [0.02784894]   [0.00375254]\n",
      "Epoch 5: 2382 / 2561   [0.02538612]   [0.00246282]\n",
      "Epoch 6: 2397 / 2561   [0.02339457]   [0.00199156]\n",
      "Epoch 7: 2411 / 2561   [0.02189221]   [0.00150236]\n",
      "Epoch 8: 2415 / 2561   [0.02084806]   [0.00104415]\n",
      "Epoch 9: 2425 / 2561   [0.01980458]   [0.00104348]\n",
      "Epoch 10: 2430 / 2561   [0.01900556]   [0.00079902]\n",
      "Epoch 11: 2429 / 2561   [0.01825121]   [0.00075435]\n",
      "Epoch 12: 2430 / 2561   [0.01783319]   [0.00041802]\n",
      "Epoch 13: 2438 / 2561   [0.01718763]   [0.00064555]\n",
      "Epoch 14: 2438 / 2561   [0.01683877]   [0.00034886]\n",
      "Epoch 15: 2446 / 2561   [0.01623534]   [0.00060343]\n",
      "Epoch 16: 2448 / 2561   [0.01606061]   [0.00017473]\n",
      "Epoch 17: 2450 / 2561   [0.01568068]   [0.00037993]\n",
      "Epoch 18: 2450 / 2561   [0.01538461]   [0.00029607]\n",
      "Epoch 19: 2454 / 2561   [0.01500073]   [0.00038388]\n",
      "Epoch 20: 2455 / 2561   [0.01474443]   [0.0002563]\n",
      "Epoch 21: 2458 / 2561   [0.01464414]   [0.00010029]\n",
      "Epoch 22: 2460 / 2561   [0.01426035]   [0.00038379]\n",
      "Epoch 23: 2460 / 2561   [0.01409574]   [0.00016462]\n",
      "Epoch 24: 2461 / 2561   [0.01387932]   [0.00021642]\n",
      "Epoch 25: 2459 / 2561   [0.01375826]   [0.00012106]\n",
      "Epoch 26: 2461 / 2561   [0.01365442]   [0.00010384]\n",
      "Epoch 27: 2460 / 2561   [0.01345581]   [0.00019861]\n",
      "Epoch 28: 2463 / 2561   [0.01327577]   [0.00018003]\n",
      "Epoch 29: 2460 / 2561   [0.01321151]   [6.42634705e-05]\n"
     ]
    }
   ],
   "source": [
    "result, result_epochs, result_mse, result_mse_different= net.evaluate_epochs\\\n",
    "(contents_train,100,0.5, test_data=contents_test)"
   ]
  },
  {
   "cell_type": "code",
   "execution_count": 94,
   "metadata": {
    "scrolled": true
   },
   "outputs": [
    {
     "data": {
      "text/html": [
       "<div>\n",
       "<style scoped>\n",
       "    .dataframe tbody tr th:only-of-type {\n",
       "        vertical-align: middle;\n",
       "    }\n",
       "\n",
       "    .dataframe tbody tr th {\n",
       "        vertical-align: top;\n",
       "    }\n",
       "\n",
       "    .dataframe thead th {\n",
       "        text-align: right;\n",
       "    }\n",
       "</style>\n",
       "<table border=\"1\" class=\"dataframe\">\n",
       "  <thead>\n",
       "    <tr style=\"text-align: right;\">\n",
       "      <th></th>\n",
       "      <th>0</th>\n",
       "      <th>1</th>\n",
       "      <th>2</th>\n",
       "      <th>3</th>\n",
       "      <th>4</th>\n",
       "    </tr>\n",
       "  </thead>\n",
       "  <tbody>\n",
       "    <tr>\n",
       "      <th>0</th>\n",
       "      <td>452.0</td>\n",
       "      <td>1.0</td>\n",
       "      <td>3.0</td>\n",
       "      <td>0.0</td>\n",
       "      <td>4.0</td>\n",
       "    </tr>\n",
       "    <tr>\n",
       "      <th>1</th>\n",
       "      <td>0.0</td>\n",
       "      <td>561.0</td>\n",
       "      <td>6.0</td>\n",
       "      <td>4.0</td>\n",
       "      <td>0.0</td>\n",
       "    </tr>\n",
       "    <tr>\n",
       "      <th>2</th>\n",
       "      <td>8.0</td>\n",
       "      <td>2.0</td>\n",
       "      <td>486.0</td>\n",
       "      <td>24.0</td>\n",
       "      <td>10.0</td>\n",
       "    </tr>\n",
       "    <tr>\n",
       "      <th>3</th>\n",
       "      <td>5.0</td>\n",
       "      <td>2.0</td>\n",
       "      <td>9.0</td>\n",
       "      <td>482.0</td>\n",
       "      <td>2.0</td>\n",
       "    </tr>\n",
       "    <tr>\n",
       "      <th>4</th>\n",
       "      <td>3.0</td>\n",
       "      <td>3.0</td>\n",
       "      <td>10.0</td>\n",
       "      <td>1.0</td>\n",
       "      <td>483.0</td>\n",
       "    </tr>\n",
       "  </tbody>\n",
       "</table>\n",
       "</div>"
      ],
      "text/plain": [
       "       0      1      2      3      4\n",
       "0  452.0    1.0    3.0    0.0    4.0\n",
       "1    0.0  561.0    6.0    4.0    0.0\n",
       "2    8.0    2.0  486.0   24.0   10.0\n",
       "3    5.0    2.0    9.0  482.0    2.0\n",
       "4    3.0    3.0   10.0    1.0  483.0"
      ]
     },
     "execution_count": 94,
     "metadata": {},
     "output_type": "execute_result"
    }
   ],
   "source": [
    "confusionMatrix(result,5)"
   ]
  },
  {
   "cell_type": "code",
   "execution_count": 106,
   "metadata": {},
   "outputs": [],
   "source": [
    "result_epochs2 = [x / 2561 for x in result_epochs]"
   ]
  },
  {
   "cell_type": "code",
   "execution_count": 112,
   "metadata": {},
   "outputs": [
    {
     "data": {
      "image/png": "[encoded data removed]",
      "text/plain": [
       "<Figure size 432x288 with 1 Axes>"
      ]
     },
     "metadata": {},
     "output_type": "display_data"
    }
   ],
   "source": [
    "plt.plot(result_epochs2)\n",
    "plt.show()"
   ]
  }
 ],
 "metadata": {
  "kernelspec": {
   "display_name": "Python 3",
   "language": "python",
   "name": "python3"
  },
  "language_info": {
   "codemirror_mode": {
    "name": "ipython",
    "version": 3
   },
   "file_extension": ".py",
   "mimetype": "text/x-python",
   "name": "python",
   "nbconvert_exporter": "python",
   "pygments_lexer": "ipython3",
   "version": "3.6.5"
  }
 },
 "nbformat": 4,
 "nbformat_minor": 2
}
